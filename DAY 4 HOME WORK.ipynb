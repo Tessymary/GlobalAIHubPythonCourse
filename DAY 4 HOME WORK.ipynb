{
 "cells": [
  {
   "cell_type": "markdown",
   "metadata": {},
   "source": [
    "# DAY 4 \n",
    "QUESTION\n",
    "Finding prime numbers between 0 and 100 using functions"
   ]
  },
  {
   "cell_type": "code",
   "execution_count": null,
   "metadata": {},
   "outputs": [],
   "source": []
  },
  {
   "cell_type": "code",
   "execution_count": 2,
   "metadata": {},
   "outputs": [
    {
     "name": "stdout",
     "output_type": "stream",
     "text": [
      "2 3 5 7 11 13 17 19 23 29 31 37 41 43 47 53 59 61 67 71 73 79 83 89 97 "
     ]
    }
   ],
   "source": [
    "#defining a function\n",
    "\n",
    "def p_number(num):\n",
    "    for Number in range (1, num+1): \n",
    "        count = 0\n",
    "        for i in range (2, (Number//2+1)):\n",
    "            if (Number % i==0):\n",
    "                count+=1\n",
    "                break\n",
    "        if (count==0 and Number !=1):\n",
    "            print('%d'% Number, end=' ')\n",
    "            \n",
    "#calling the function\n",
    "\n",
    "p_number(100)"
   ]
  },
  {
   "cell_type": "code",
   "execution_count": null,
   "metadata": {},
   "outputs": [],
   "source": []
  }
 ],
 "metadata": {
  "kernelspec": {
   "display_name": "Python 3",
   "language": "python",
   "name": "python3"
  },
  "language_info": {
   "codemirror_mode": {
    "name": "ipython",
    "version": 3
   },
   "file_extension": ".py",
   "mimetype": "text/x-python",
   "name": "python",
   "nbconvert_exporter": "python",
   "pygments_lexer": "ipython3",
   "version": "3.8.3"
  }
 },
 "nbformat": 4,
 "nbformat_minor": 4
}
