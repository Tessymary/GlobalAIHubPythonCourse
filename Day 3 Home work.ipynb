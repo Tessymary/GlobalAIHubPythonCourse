{
 "cells": [
  {
   "cell_type": "markdown",
   "metadata": {},
   "source": [
    "\n",
    "# Day 3"
   ]
  },
  {
   "cell_type": "code",
   "execution_count": 1,
   "metadata": {},
   "outputs": [
    {
     "name": "stdout",
     "output_type": "stream",
     "text": [
      "Enter your username: Gold\n",
      "Enter your password: GOLDEN\n",
      "VALID USERNAME\n",
      "VALID PASSWORD\n"
     ]
    },
    {
     "data": {
      "text/plain": [
       "'GOLDEN'"
      ]
     },
     "execution_count": 1,
     "metadata": {},
     "output_type": "execute_result"
    }
   ],
   "source": [
    "#user login application\n",
    "#enter the user input\n",
    "\n",
    "username = input(\"Enter your username: \") \n",
    "\n",
    "#intoducing a function with username as the parameter\n",
    "\n",
    "def hint_username(username):\n",
    "    if len(username) < 3:          #conditional statement\n",
    "        print(\"Invalid username. Must be at least 3 character long\")\n",
    "    elif len(username) > 15:\n",
    "        print(\"Invalid username. Must be at most 15 characters long\")\n",
    "    else:\n",
    "        print(\"VALID USERNAME\")\n",
    "    return username\n",
    "password = input(\"Enter your password: \")\n",
    "\n",
    "#intoducing a function with password as the parameter\n",
    "\n",
    "def hint_password(password):\n",
    "    if len(password) <3:\n",
    "        print(\"Invalid password. Must be at least 3 character long\")\n",
    "    elif len(password) > 15:\n",
    "        print(\"Invalid password. Must be at most 15 characters long\")\n",
    "    else:\n",
    "        print(\"VALID PASSWORD\")\n",
    "    return password\n",
    "hint_username(username)\n",
    "hint_password(password)"
   ]
  },
  {
   "cell_type": "code",
   "execution_count": null,
   "metadata": {},
   "outputs": [],
   "source": []
  }
 ],
 "metadata": {
  "kernelspec": {
   "display_name": "Python 3",
   "language": "python",
   "name": "python3"
  },
  "language_info": {
   "codemirror_mode": {
    "name": "ipython",
    "version": 3
   },
   "file_extension": ".py",
   "mimetype": "text/x-python",
   "name": "python",
   "nbconvert_exporter": "python",
   "pygments_lexer": "ipython3",
   "version": "3.8.3"
  }
 },
 "nbformat": 4,
 "nbformat_minor": 4
}
