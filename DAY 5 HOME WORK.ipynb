{
 "cells": [
  {
   "cell_type": "code",
   "execution_count": 16,
   "metadata": {},
   "outputs": [
    {
     "name": "stdout",
     "output_type": "stream",
     "text": [
      "Mammal  Animalia  Chordeta \n"
     ]
    }
   ],
   "source": [
    "#define a parent class\n",
    "\n",
    "class Animal():\n",
    "    def __init__(self, Class, Kingdom, Phylum):\n",
    "        self.Class = Class\n",
    "        self.Kingdom = Kingdom\n",
    "        self.Phylum = Phylum\n",
    "        \n",
    "    def print_class(Class, Kingdom, Phylum):\n",
    "        print(Class + \"belonds to \" + Kingdom + \"and is \" + Phylum)\n",
    "        \n",
    "        \n",
    "    #define a child class(dog)\n",
    "\n",
    "class Dog(Animal):\n",
    "    def __init__(self):\n",
    "        \n",
    "        Dog = Animal()\n",
    "        cat = Animal()\n",
    "\n",
    "             \n",
    "print(\"Mammal \", \"Animalia \", \"Chordeta \")\n",
    "        "
   ]
  },
  {
   "cell_type": "code",
   "execution_count": null,
   "metadata": {},
   "outputs": [],
   "source": []
  },
  {
   "cell_type": "code",
   "execution_count": null,
   "metadata": {},
   "outputs": [],
   "source": []
  },
  {
   "cell_type": "code",
   "execution_count": null,
   "metadata": {},
   "outputs": [],
   "source": []
  }
 ],
 "metadata": {
  "kernelspec": {
   "display_name": "Python 3",
   "language": "python",
   "name": "python3"
  },
  "language_info": {
   "codemirror_mode": {
    "name": "ipython",
    "version": 3
   },
   "file_extension": ".py",
   "mimetype": "text/x-python",
   "name": "python",
   "nbconvert_exporter": "python",
   "pygments_lexer": "ipython3",
   "version": "3.8.3"
  }
 },
 "nbformat": 4,
 "nbformat_minor": 4
}
