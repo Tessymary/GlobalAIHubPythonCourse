{
 "cells": [
  {
   "cell_type": "markdown",
   "metadata": {},
   "source": [
    "# Day 2\n",
    "Questions\n",
    "1. Create a list and swap the second half of the list with the first half of the list and print this list on the screen\n",
    "2. Ask the user to input a single digit integer to a variable 'n'. then print out all of the even numbers from 0 to n (including n)"
   ]
  },
  {
   "cell_type": "code",
   "execution_count": 3,
   "metadata": {},
   "outputs": [
    {
     "name": "stdout",
     "output_type": "stream",
     "text": [
      "[10, 9, 8, 7, 6, 5, 4, 3, 2, 1]\n"
     ]
    }
   ],
   "source": [
    "\n",
    "#Question 1 answer\n",
    "#create a new list\n",
    "\n",
    "mylist = [1,2,3,4,5,6,7,8,9,10]\n",
    "mylist.reverse()\n",
    "print(mylist)\n",
    "\n",
    " \n"
   ]
  },
  {
   "cell_type": "code",
   "execution_count": 6,
   "metadata": {},
   "outputs": [
    {
     "name": "stdout",
     "output_type": "stream",
     "text": [
      "Enter a single digit integer: 8\n",
      "0\n",
      "2\n",
      "4\n",
      "6\n",
      "8\n"
     ]
    }
   ],
   "source": [
    "#Question 2 Answer.\n",
    "\n",
    "#create an input\n",
    "\n",
    "n = int(input(\"Enter a single digit integer: \"))\n",
    "if n > 9:\n",
    "    print(\"You have entered a number with more than one digit\")\n",
    "    print(\"please enter a single digit integer\")\n",
    "else:\n",
    "    for i in range(0, n+1, +2): #incrementing zero by n+2\n",
    "        print(i)\n",
    "    "
   ]
  },
  {
   "cell_type": "code",
   "execution_count": null,
   "metadata": {},
   "outputs": [],
   "source": []
  }
 ],
 "metadata": {
  "kernelspec": {
   "display_name": "Python 3",
   "language": "python",
   "name": "python3"
  },
  "language_info": {
   "codemirror_mode": {
    "name": "ipython",
    "version": 3
   },
   "file_extension": ".py",
   "mimetype": "text/x-python",
   "name": "python",
   "nbconvert_exporter": "python",
   "pygments_lexer": "ipython3",
   "version": "3.8.3"
  }
 },
 "nbformat": 4,
 "nbformat_minor": 4
}
